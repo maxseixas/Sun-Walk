{
 "cells": [
  {
   "cell_type": "code",
   "execution_count": 4,
   "id": "2ee05a17",
   "metadata": {},
   "outputs": [
    {
     "name": "stdout",
     "output_type": "stream",
     "text": [
      "1.7538722843315282e-14 years for a radius of 0.7 meters\n",
      "2.231666962409221e-12 years for a radius of 7 meters\n",
      "Looking at these data, there appears to be a correlation between the scientific notation value of seven for the radius, and the power of 10 for the number of years.\n",
      "\n",
      "This means that 7*10^n somehow correlates to 10^m.\n",
      "Though the values of m vary occasionally, it seems that when n=-1, m=-14 or -15. And, when n=0, m=-12 or -13. \n",
      "\n",
      "Correlating the what seem to be the most common values together in ordered pairs (n,m): (-1,-15) and (0,-13), it is easy to recognize a linear pattern, though it is possible there is a more accurate representaton.\n",
      "n = a/2 + 6.5\n",
      "\n",
      "So, for n=8, in other words 7*10^8 meters should correspond to m= 2*(8-6.5)=3.\n",
      "\n",
      "We can therefore estimate the time it takes for a photon to exit the solar radius to be 10^3 years, or 1000 years. \n"
     ]
    }
   ],
   "source": [
    "import math\n",
    "import numpy as np\n",
    "c=3E8\n",
    "l=4E-3\n",
    "\n",
    "R=7\n",
    "x=0\n",
    "y=0\n",
    "T=0\n",
    "N=10E10\n",
    "pi=math.pi\n",
    "\n",
    "def X(r,theta):\n",
    "    return r*(math.cos(theta))\n",
    "\n",
    "def Y(r,theta):\n",
    "    return r*math.sin(theta)\n",
    "\n",
    "def dist(x,y):\n",
    "    return math.sqrt(x**2 + y**2)\n",
    "\n",
    "def time(R):\n",
    "    c=3E8\n",
    "    l=4E-3\n",
    "    x=0\n",
    "    y=0\n",
    "    T=0\n",
    "    N=10E10\n",
    "    pi=math.pi\n",
    "\n",
    "    for i in range(int(N)):\n",
    "        theta=np.random.uniform(0, 2*pi)\n",
    "        x+=X(l,theta)\n",
    "        y+=Y(l,theta)\n",
    "        r=dist(x,y)\n",
    "        T+=l/c\n",
    "        if(r>R):\n",
    "            return T/31557600\n",
    "            break\n",
    "\n",
    "\n",
    "print(time(.7), \"years for a radius of\", 0.7, \"meters\")\n",
    "print(time(7), \"years for a radius of\", 7, \"meters\")\n",
    "\n",
    "print(\"Looking at these data, there appears to be a correlation between the scientific notation value of seven for the radius, and the power of 10 for the number of years.\")\n",
    "print(\"\")\n",
    "print(\"This means that 7*10^n somehow correlates to 10^m.\")\n",
    "print(\"Though the values of m vary occasionally, it seems that when n=-1, m=-14 or -15. And, when n=0, m=-12 or -13. \")\n",
    "print(\"\")\n",
    "print(\"Correlating the what seem to be the most common values together in ordered pairs (n,m): (-1,-15) and (0,-13), it is easy to recognize a linear pattern, though it is possible there is a more accurate representaton.\")\n",
    "print(\"n = a/2 + 6.5\")\n",
    "print(\"\")\n",
    "print(\"So, for n=8, in other words 7*10^8 meters should correspond to m= 2*(8-6.5)=3.\")\n",
    "print(\"\")\n",
    "print(\"We can therefore estimate the time it takes for a photon to exit the solar radius to be 10^3 years, or 1000 years. \")"
   ]
  },
  {
   "cell_type": "code",
   "execution_count": null,
   "id": "4e82225a",
   "metadata": {},
   "outputs": [],
   "source": []
  }
 ],
 "metadata": {
  "kernelspec": {
   "display_name": "Python 3",
   "language": "python",
   "name": "python3"
  },
  "language_info": {
   "codemirror_mode": {
    "name": "ipython",
    "version": 3
   },
   "file_extension": ".py",
   "mimetype": "text/x-python",
   "name": "python",
   "nbconvert_exporter": "python",
   "pygments_lexer": "ipython3",
   "version": "3.8.8"
  }
 },
 "nbformat": 4,
 "nbformat_minor": 5
}
